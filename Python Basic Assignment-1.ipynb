{
 "cells": [
  {
   "cell_type": "markdown",
   "metadata": {},
   "source": [
    "# # Simple Message: Store a message in a variable, and then print that message."
   ]
  },
  {
   "cell_type": "raw",
   "metadata": {},
   "source": [
    "# Simple Message: Store a message in a variable, and then print that message."
   ]
  },
  {
   "cell_type": "code",
   "execution_count": null,
   "metadata": {},
   "outputs": [],
   "source": [
    "# a = \"Hellow World\" #### Program-1\n",
    "print(a)"
   ]
  },
  {
   "cell_type": "raw",
   "metadata": {},
   "source": [
    "# Store a message in a variable and print that message. Then change the value of your variable to a new message and print the new message."
   ]
  },
  {
   "cell_type": "code",
   "execution_count": 3,
   "metadata": {},
   "outputs": [
    {
     "name": "stdout",
     "output_type": "stream",
     "text": [
      "Ram\n"
     ]
    }
   ],
   "source": [
    "b = \"Ram\"  #### Program-2\n",
    "print(b)"
   ]
  },
  {
   "cell_type": "code",
   "execution_count": 4,
   "metadata": {},
   "outputs": [
    {
     "name": "stdout",
     "output_type": "stream",
     "text": [
      "Joy\n"
     ]
    }
   ],
   "source": [
    "b = \"Joy\" #### Program-3\n",
    "print(b)"
   ]
  },
  {
   "cell_type": "raw",
   "metadata": {},
   "source": [
    "# Store a person’s name in a variable and print a message to that person. Your message should be simple, such as, “Hello Eric, would you like to learn some Python today?”"
   ]
  },
  {
   "cell_type": "code",
   "execution_count": 7,
   "metadata": {},
   "outputs": [
    {
     "name": "stdout",
     "output_type": "stream",
     "text": [
      "Enter your nameEric\n",
      "Hello Eric , would you like to learn some Python today?\n"
     ]
    }
   ],
   "source": [
    "x = input(\"Enter your name\")  #### Program-4\n",
    "print('Hello ' + x , ', would you like to learn some Python today?')"
   ]
  },
  {
   "cell_type": "raw",
   "metadata": {},
   "source": [
    "# Find a quote from a famous person you admire. Print the quote and the name of its author. Your output should look something like the following, including the quotation marks: Albert Einstein once said, “A person who never made a mistake never tried anything new.”"
   ]
  },
  {
   "cell_type": "code",
   "execution_count": 11,
   "metadata": {},
   "outputs": [
    {
     "name": "stdout",
     "output_type": "stream",
     "text": [
      "Walt Disney once said,'All our dreams can come true, if we have the courage to pursue them.'\n"
     ]
    }
   ],
   "source": [
    "y = \"Walt Disney once said,'All our dreams can come true, if we have the courage to pursue them.'\" #### Program-5\n",
    "print(y)"
   ]
  },
  {
   "cell_type": "raw",
   "metadata": {},
   "source": [
    "# Repeat above Exercise, but this time store the famous person’s name in a variable called famous_person. Then compose your message and store it in a new variable called message. Print your message."
   ]
  },
  {
   "cell_type": "code",
   "execution_count": 12,
   "metadata": {},
   "outputs": [
    {
     "name": "stdout",
     "output_type": "stream",
     "text": [
      "Walt Disney once said,'All our dreams can come true, if we have the courage to pursue them.'\n"
     ]
    }
   ],
   "source": [
    "famous_person = \"Walt Disney\"  #### Program-6\n",
    "message = \"once said,'All our dreams can come true, if we have the courage to pursue them.'\"\n",
    "print( famous_person , message)"
   ]
  },
  {
   "cell_type": "raw",
   "metadata": {},
   "source": [
    "# Write addition, subtraction, multiplication, and division operations that each result in the number 8. Be sure to enclose your operations in print statements to see the results. You should create four lines that look like this: print (5 + 3)\n",
    "Your output should simply be four lines with the number 8 appearing once on each line."
   ]
  },
  {
   "cell_type": "code",
   "execution_count": 19,
   "metadata": {},
   "outputs": [
    {
     "name": "stdout",
     "output_type": "stream",
     "text": [
      "8\n"
     ]
    }
   ],
   "source": [
    "print (5 + 3) #### Program-7"
   ]
  },
  {
   "cell_type": "code",
   "execution_count": 20,
   "metadata": {},
   "outputs": [
    {
     "name": "stdout",
     "output_type": "stream",
     "text": [
      "8\n"
     ]
    }
   ],
   "source": [
    "print (12 - 4)  #### Program-7"
   ]
  },
  {
   "cell_type": "code",
   "execution_count": 22,
   "metadata": {},
   "outputs": [
    {
     "name": "stdout",
     "output_type": "stream",
     "text": [
      "8\n"
     ]
    }
   ],
   "source": [
    "print (2 * 4)  #### Program-7"
   ]
  },
  {
   "cell_type": "code",
   "execution_count": 28,
   "metadata": {},
   "outputs": [
    {
     "name": "stdout",
     "output_type": "stream",
     "text": [
      "8.0\n"
     ]
    }
   ],
   "source": [
    "print(16 / 2)  #### Program-7"
   ]
  },
  {
   "cell_type": "code",
   "execution_count": 23,
   "metadata": {},
   "outputs": [
    {
     "name": "stdout",
     "output_type": "stream",
     "text": [
      "8\n",
      "8\n",
      "8\n",
      "8\n"
     ]
    }
   ],
   "source": [
    "print (5 + 3)  #### Program-7\n",
    "print (12 - 4)\n",
    "print (2 * 4)\n",
    "print (16 // 2)"
   ]
  },
  {
   "cell_type": "raw",
   "metadata": {},
   "source": [
    "# Store your favourite number in a variable. Then, using that variable, create a message that reveals your favourite number. Print that message."
   ]
  },
  {
   "cell_type": "code",
   "execution_count": 34,
   "metadata": {},
   "outputs": [
    {
     "name": "stdout",
     "output_type": "stream",
     "text": [
      "7 is my lucky number.\n"
     ]
    }
   ],
   "source": [
    "r = \"7\"  #### Program-8\n",
    "print( r , 'is my lucky number.')"
   ]
  },
  {
   "cell_type": "raw",
   "metadata": {},
   "source": [
    "# Store the names of a few of your friends in a list called names. Print each person’s name by accessing each element in the list, one at a time."
   ]
  },
  {
   "cell_type": "code",
   "execution_count": 24,
   "metadata": {},
   "outputs": [
    {
     "name": "stdout",
     "output_type": "stream",
     "text": [
      "['Shraddha', 'Sudhakar', 'Nischal', 'Ashirvad']\n"
     ]
    }
   ],
   "source": [
    "x = 'learning Python.' #### Program-9\n",
    "name = [\"Shraddha\" , \"Sudhakar\" , \"Nischal\" , \"Ashirvad\"]\n",
    "print(name)"
   ]
  },
  {
   "cell_type": "code",
   "execution_count": 26,
   "metadata": {},
   "outputs": [
    {
     "name": "stdout",
     "output_type": "stream",
     "text": [
      "Shraddha\n",
      "Sudhakar\n",
      "Nischal\n",
      "Ashirvad\n"
     ]
    }
   ],
   "source": [
    "print(name[0]) #### Program-10\n",
    "print(name[1])\n",
    "print(name[2])\n",
    "print(name[3])"
   ]
  },
  {
   "cell_type": "code",
   "execution_count": 29,
   "metadata": {},
   "outputs": [
    {
     "name": "stdout",
     "output_type": "stream",
     "text": [
      "Shraddha\n",
      "Sudhakar\n",
      "Nischal\n",
      "Ashirvad\n"
     ]
    }
   ],
   "source": [
    "for i in name:\n",
    "    print(i)"
   ]
  },
  {
   "cell_type": "raw",
   "metadata": {},
   "source": [
    "# Start with the list you used in above Exercise, but instead of just printing each person’s name, print a message to them. The text of each message should be the same, but each message should be personalized with the person’s name."
   ]
  },
  {
   "cell_type": "code",
   "execution_count": 25,
   "metadata": {},
   "outputs": [
    {
     "name": "stdout",
     "output_type": "stream",
     "text": [
      "Shraddha learning Python.\n",
      "Sudhakar learning Python.\n",
      "Nischal learning Python.\n",
      "Ashirvad learning Python.\n"
     ]
    }
   ],
   "source": [
    "print(name[0] , x) #### Program-10\n",
    "print(name[1] , x)\n",
    "print(name[2] , x)\n",
    "print(name[3] , x)"
   ]
  },
  {
   "cell_type": "raw",
   "metadata": {},
   "source": [
    "# Think of your favourite mode of transportation, such as a motorcycle or a car, and make a list that stores several examples. Use your list to print a series of statements about these items, such as “I would like to own a Honda motorcycle.”"
   ]
  },
  {
   "cell_type": "code",
   "execution_count": 2,
   "metadata": {},
   "outputs": [
    {
     "name": "stdout",
     "output_type": "stream",
     "text": [
      "['Tata', 'Volvo', 'Mahindra']\n"
     ]
    }
   ],
   "source": [
    "car = [\"Tata\" , \"Volvo\" , \"Mahindra\"]\n",
    "print(car)"
   ]
  },
  {
   "cell_type": "code",
   "execution_count": 19,
   "metadata": {},
   "outputs": [
    {
     "name": "stdout",
     "output_type": "stream",
     "text": [
      "Tata Nexon’s high-strength steel structure absorbs impact energy and protects the passenger during an unfortunate collision.  \n",
      "Tata Nexon uses premium materials and textures with attention to detail and beautiful craftmanship visible on the mid pad design. \n",
      "Tata Nexon have Multi drive mode, drive according to your mood by switching to Eco, City and Sport modes.\n"
     ]
    }
   ],
   "source": [
    "x = \"Nexon’s high-strength steel structure absorbs impact energy and protects the passenger during an unfortunate collision.  \"\n",
    "y = \"uses premium materials and textures with attention to detail and beautiful craftmanship visible on the mid pad design. \"\n",
    "z = \"drive according to your mood by switching to Eco, City and Sport modes.\"\n",
    "print(car[0] , x)\n",
    "print(car[0] ,'Nexon' , y)\n",
    "print(car[0] ,'Nexon have Multi drive mode,' , z)"
   ]
  },
  {
   "cell_type": "code",
   "execution_count": 16,
   "metadata": {},
   "outputs": [
    {
     "name": "stdout",
     "output_type": "stream",
     "text": [
      "New Volvo car are numerous including the ability to customize your vehicle, access to top-of-the-line safety features and improved fuel efficiency.\n",
      "Another benefit of buying a brand new Volvo car is getting access to the greatest and latest tech features.\n",
      "New Volvo usually offer improved mileage and fuel efficiency. Consumers who choose a new car may also have more options available including hybrid autos.\n"
     ]
    }
   ],
   "source": [
    "x = \"car are numerous including the ability to customize your vehicle, access to top-of-the-line safety features and improved fuel efficiency.\"\n",
    "y = \"Another benefit of buying a brand new\"\n",
    "z = \"car is getting access to the greatest and latest tech features.\"\n",
    "u = \"usually offer improved mileage and fuel efficiency. Consumers who choose a new car may also have more options available including hybrid autos.\"\n",
    "print(\"New\" , car[1] , x)\n",
    "print(y , car[1] , z)\n",
    "print(\"New\" , car[1] , u)"
   ]
  },
  {
   "cell_type": "code",
   "execution_count": 15,
   "metadata": {},
   "outputs": [
    {
     "name": "stdout",
     "output_type": "stream",
     "text": [
      "Mahindra has established itself as the leader in the affordable SUV segment in India.\n",
      "The base version of the Mahindra Scorpio is very well priced that attracts a lot of buyers.\n",
      "Mahindra currently offers 22 variants of the Scorpio including hybrid variants.\n"
     ]
    }
   ],
   "source": [
    "r = \"has established itself as the leader in the affordable SUV segment in India.\"\n",
    "s = \"The base version of the\"\n",
    "t = \"Scorpio is very well priced that attracts a lot of buyers.\"\n",
    "u = \"currently offers 22 variants of the Scorpio including hybrid variants.\"\n",
    "print(car[2] , r)\n",
    "print(s, car[2] , t)\n",
    "print(car[2] , u)"
   ]
  },
  {
   "cell_type": "code",
   "execution_count": null,
   "metadata": {},
   "outputs": [],
   "source": []
  }
 ],
 "metadata": {
  "kernelspec": {
   "display_name": "Python 3",
   "language": "python",
   "name": "python3"
  },
  "language_info": {
   "codemirror_mode": {
    "name": "ipython",
    "version": 3
   },
   "file_extension": ".py",
   "mimetype": "text/x-python",
   "name": "python",
   "nbconvert_exporter": "python",
   "pygments_lexer": "ipython3",
   "version": "3.8.3"
  }
 },
 "nbformat": 4,
 "nbformat_minor": 4
}
