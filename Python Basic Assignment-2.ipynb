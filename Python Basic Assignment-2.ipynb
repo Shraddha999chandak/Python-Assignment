{
 "cells": [
  {
   "cell_type": "raw",
   "metadata": {},
   "source": [
    "# Create a program that displays your name and complete mailing address formatted in the manner that you would usually see it on the outside of an envelope. Your program does not need to read any input from the user."
   ]
  },
  {
   "cell_type": "code",
   "execution_count": 4,
   "metadata": {},
   "outputs": [
    {
     "name": "stdout",
     "output_type": "stream",
     "text": [
      "shraddha999chandak@gmail.com\n"
     ]
    }
   ],
   "source": [
    "x = \"shraddha999chandak@gmail.com\"\n",
    "print(x)"
   ]
  },
  {
   "cell_type": "raw",
   "metadata": {},
   "source": [
    "# Write a program that asks the user to enter his or her name. The program should respond with a message that says hello to the user, using his or her name."
   ]
  },
  {
   "cell_type": "code",
   "execution_count": 1,
   "metadata": {},
   "outputs": [
    {
     "name": "stdout",
     "output_type": "stream",
     "text": [
      "Enter your name Shraddha\n",
      "Hello to Shraddha\n"
     ]
    }
   ],
   "source": [
    "x = input(\"Enter your name \")  \n",
    "print('Hello to ' + x , )"
   ]
  },
  {
   "cell_type": "raw",
   "metadata": {},
   "source": [
    "# Write a program that asks the user to enter the width and length of a room. Once the values have been read, your program should compute and display the area of the room. The length and the width will be entered as floating-point numbers. Include units in your prompt and output message; either feet or meters, depending on which unit you are more comfortable working with."
   ]
  },
  {
   "cell_type": "code",
   "execution_count": 2,
   "metadata": {},
   "outputs": [
    {
     "name": "stdout",
     "output_type": "stream",
     "text": [
      "Enter length in feet-203.5\n",
      "Enter width in feet-204.5\n",
      "41615.75 feet\n"
     ]
    }
   ],
   "source": [
    "a = float(input('Enter length in feet-'))\n",
    "b = float(input('Enter width in feet-'))\n",
    "c = a * b\n",
    "print(c , 'feet')"
   ]
  },
  {
   "cell_type": "raw",
   "metadata": {},
   "source": [
    "# Create a program that reads the length and width of a farmer’s field from the user in feet. Display the area of the field in acres. Hint: There are 43,560 square feet in an acre."
   ]
  },
  {
   "cell_type": "code",
   "execution_count": 3,
   "metadata": {},
   "outputs": [
    {
     "name": "stdout",
     "output_type": "stream",
     "text": [
      "Enter length in feet-70000\n",
      "Enter width in feet-80000\n",
      "128558.3103764922 acers\n"
     ]
    }
   ],
   "source": [
    "a = float(input('Enter length in feet-'))\n",
    "b = float(input('Enter width in feet-'))\n",
    "c = a * b\n",
    "d = c / 43560\n",
    "print(d , 'acers')\n"
   ]
  },
  {
   "cell_type": "raw",
   "metadata": {},
   "source": [
    "# In many jurisdictions a small deposit is added to drink containers to encourage people to recycle them. In one particular jurisdiction, drink containers holding one litre or less have a $0.10 deposit, and drink containers holding more than one litre have a $0.25 deposit. Write a program that reads the number of containers of each size from the user. Your program should continue by computing and displaying the refund that will be received for returning those containers. Format the output so that it includes a dollar sign and always displays exactly two decimal places."
   ]
  },
  {
   "cell_type": "code",
   "execution_count": 13,
   "metadata": {},
   "outputs": [
    {
     "name": "stdout",
     "output_type": "stream",
     "text": [
      "Enter the number of small container you recycle-5\n",
      "Enter the number of small container you recycle-6\n"
     ]
    }
   ],
   "source": [
    "small_container = int(input(\"Enter the number of small container you recycle-\"))\n",
    "large_container = int(input(\"Enter the number of small container you recycle-\"))"
   ]
  },
  {
   "cell_type": "code",
   "execution_count": 14,
   "metadata": {},
   "outputs": [],
   "source": [
    "refund = (small_container * 0.10) + (large_container * 0.25)"
   ]
  },
  {
   "cell_type": "code",
   "execution_count": 15,
   "metadata": {},
   "outputs": [
    {
     "name": "stdout",
     "output_type": "stream",
     "text": [
      "Total Refund- $2.0\n"
     ]
    }
   ],
   "source": [
    "print(\"Total Refund- $\" + str(round(refund ,2)))"
   ]
  },
  {
   "cell_type": "code",
   "execution_count": 16,
   "metadata": {},
   "outputs": [
    {
     "data": {
      "text/plain": [
       "1.5"
      ]
     },
     "execution_count": 16,
     "metadata": {},
     "output_type": "execute_result"
    }
   ],
   "source": [
    "6 * 0.25"
   ]
  },
  {
   "cell_type": "raw",
   "metadata": {},
   "source": [
    "The program that you create for this exercise will begin by reading the cost of a meal ordered at a restaurant from the user. Then your program will compute the tax and tip for the meal. Use your local tax rate when computing the amount of tax owing. Compute the tip as 18 percent of the meal amount (without the tax). The output from your program should include the tax amount, the tip amount, and the grand total for the meal including both the tax and the tip. Format the output so that all the values are displayed using two decimal places."
   ]
  },
  {
   "cell_type": "code",
   "execution_count": 19,
   "metadata": {},
   "outputs": [
    {
     "name": "stdout",
     "output_type": "stream",
     "text": [
      "Enter the cost of meal-500.25\n"
     ]
    }
   ],
   "source": [
    "meal_cost = float(input(\"Enter the cost of meal-\"))"
   ]
  },
  {
   "cell_type": "code",
   "execution_count": 22,
   "metadata": {},
   "outputs": [
    {
     "name": "stdout",
     "output_type": "stream",
     "text": [
      "25.012500000000003\n",
      "90.045\n"
     ]
    }
   ],
   "source": [
    "tax = (meal_cost * 0.05)\n",
    "tip = (meal_cost * 0.18)\n",
    "print(tax)\n",
    "print(tip)"
   ]
  },
  {
   "cell_type": "code",
   "execution_count": 24,
   "metadata": {},
   "outputs": [
    {
     "name": "stdout",
     "output_type": "stream",
     "text": [
      "615.3075\n"
     ]
    }
   ],
   "source": [
    "total_amount = (meal_cost + tax + tip)\n",
    "print(total_amount)"
   ]
  },
  {
   "cell_type": "raw",
   "metadata": {},
   "source": [
    "# Write a program that reads a positive integer, n, from the user and then displays the sum of all the integers from 1 to n. The sum of the first n positive integers can be computed using the formula: sum = (n) (n + 1)/ 2\n"
   ]
  },
  {
   "cell_type": "code",
   "execution_count": 36,
   "metadata": {},
   "outputs": [
    {
     "name": "stdout",
     "output_type": "stream",
     "text": [
      "Enter a positive Integer-53\n",
      "1431\n"
     ]
    }
   ],
   "source": [
    "n = int(input(\"Enter a positive Integer-\"))\n",
    "Sum = n * (n + 1) // 2\n",
    "print(Sum)"
   ]
  },
  {
   "cell_type": "raw",
   "metadata": {},
   "source": [
    "# An online retailer sells two products: widgets and gizmos. Each widget weighs 75 grams. Each gizmo weighs 112 grams. Write a program that reads the number of widgets and the number of gizmos in an order from the user. Then your program should compute and display the total weight of the order."
   ]
  },
  {
   "cell_type": "code",
   "execution_count": 39,
   "metadata": {},
   "outputs": [
    {
     "name": "stdout",
     "output_type": "stream",
     "text": [
      "Enter the number of widget-2\n",
      "Enter the number of gizmo-5\n",
      "710 gram\n"
     ]
    }
   ],
   "source": [
    "widget = int(input(\"Enter the number of widget-\"))\n",
    "gizmo = int(input(\"Enter the number of gizmo-\"))\n",
    "total_weigh = (widget * 75 + gizmo * 112)\n",
    "print(total_weigh , \"gram\")"
   ]
  },
  {
   "cell_type": "raw",
   "metadata": {},
   "source": [
    "# Pretend that you have just opened a new savings account that earns 4 percent interest per year. The interest that you earn is paid at the end of the year and is added to the balance of the savings account. Write a program that begins by reading the amount of money deposited into the account from the user. Then your program should compute and display the amount in the savings account after 1, 2, and 3 years. Display each amount so that it is rounded to 2 decimal places."
   ]
  },
  {
   "cell_type": "code",
   "execution_count": 4,
   "metadata": {},
   "outputs": [
    {
     "name": "stdout",
     "output_type": "stream",
     "text": [
      "Enter the Principal-1596\n",
      "Amount for first Year-1659.84\n",
      "Amount for second Year-1723.68\n",
      "Amount for third Year-1723.68\n"
     ]
    }
   ],
   "source": [
    "p = float(input(\"Enter the Principal-\"))\n",
    "r = 0.04\n",
    "t1 = 1\n",
    "t2 = 2\n",
    "t3 = 3\n",
    "SI1 = p * 0.04 * t1\n",
    "SI2 = p * 0.04 * t2\n",
    "SI3 = p * 0.04 * t3\n",
    "a1 = p + SI1\n",
    "a2 = p + SI2\n",
    "a3 = p + SI3\n",
    "print(\"Amount for first Year-\" + str(round(a1 ,2)))\n",
    "print(\"Amount for second Year-\" + str(round(a2 ,2)))\n",
    "print(\"Amount for third Year-\" + str(round(a2 ,2)))\n",
    "\n",
    "\n",
    "\n"
   ]
  },
  {
   "cell_type": "raw",
   "metadata": {},
   "source": [
    "# Create a program that reads two integers, a and b, from the user. Your program should compute and display: • The sum of a and b • The difference when b is subtracted from a • The product of a and b 6 1 Introduction to Programming Exercises • The quotient when a is divided by b • The remainder when a is divided by b • The result of log10 a • The result of ab"
   ]
  },
  {
   "cell_type": "code",
   "execution_count": 18,
   "metadata": {},
   "outputs": [
    {
     "name": "stdout",
     "output_type": "stream",
     "text": [
      "Enter the first integer-56489\n",
      "Enter the second integer-45\n",
      "Sum: 56534\n",
      "Subtract: 56444\n",
      "Product: 2542005\n",
      "Quotient: 1255\n",
      "Remainder: 14\n",
      "math.log10(a): 4.751963886679575\n"
     ]
    }
   ],
   "source": [
    "a = int(input(\"Enter the first integer-\"))\n",
    "b = int(input(\"Enter the second integer-\"))\n",
    "sum = a + b\n",
    "subtract = a - b\n",
    "product = a * b\n",
    "quotient=a//b\n",
    "remainder=a%b\n",
    "import  math\n",
    "math.log10 ( a )\n",
    "print(\"Sum:\",sum)\n",
    "print(\"Subtract:\",subtract)\n",
    "print(\"Product:\",product)\n",
    "print(\"Quotient:\",quotient)\n",
    "print(\"Remainder:\",remainder)\n",
    "print (\"math.log10(a):\",math.log10(a))"
   ]
  }
 ],
 "metadata": {
  "kernelspec": {
   "display_name": "Python 3",
   "language": "python",
   "name": "python3"
  },
  "language_info": {
   "codemirror_mode": {
    "name": "ipython",
    "version": 3
   },
   "file_extension": ".py",
   "mimetype": "text/x-python",
   "name": "python",
   "nbconvert_exporter": "python",
   "pygments_lexer": "ipython3",
   "version": "3.8.3"
  }
 },
 "nbformat": 4,
 "nbformat_minor": 4
}
